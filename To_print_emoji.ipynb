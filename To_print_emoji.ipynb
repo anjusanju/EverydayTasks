{
  "nbformat": 4,
  "nbformat_minor": 0,
  "metadata": {
    "colab": {
      "provenance": [],
      "authorship_tag": "ABX9TyM7E1rfQ6GtAp+rnIBl6Aq/"
    },
    "kernelspec": {
      "name": "python3",
      "display_name": "Python 3"
    },
    "language_info": {
      "name": "python"
    }
  },
  "cells": [
    {
      "cell_type": "markdown",
      "source": [
        "To print the emoji in python using the print statement and input statement gven by the user. "
      ],
      "metadata": {
        "id": "tykxPW5h9vQ5"
      }
    },
    {
      "cell_type": "code",
      "execution_count": 5,
      "metadata": {
        "colab": {
          "base_uri": "https://localhost:8080/"
        },
        "id": "Zes0snvp9nnY",
        "outputId": "bb184af0-f556-4e05-8c5d-ae95d765578a"
      },
      "outputs": [
        {
          "output_type": "stream",
          "name": "stdout",
          "text": [
            "Looking in indexes: https://pypi.org/simple, https://us-python.pkg.dev/colab-wheels/public/simple/\n",
            "Requirement already satisfied: emojis in /usr/local/lib/python3.8/dist-packages (0.7.0)\n"
          ]
        }
      ],
      "source": [
        "!pip install emojis\n"
      ]
    },
    {
      "cell_type": "code",
      "source": [
        "!pip install emoji --upgrade\n",
        "import emoji"
      ],
      "metadata": {
        "colab": {
          "base_uri": "https://localhost:8080/"
        },
        "id": "vevdyh5o99-M",
        "outputId": "4d454a3a-7f8b-4c14-ad25-0a5356bec3ec"
      },
      "execution_count": 7,
      "outputs": [
        {
          "output_type": "stream",
          "name": "stdout",
          "text": [
            "Looking in indexes: https://pypi.org/simple, https://us-python.pkg.dev/colab-wheels/public/simple/\n",
            "Collecting emoji\n",
            "  Downloading emoji-2.2.0.tar.gz (240 kB)\n",
            "\u001b[2K     \u001b[90m━━━━━━━━━━━━━━━━━━━━━━━━━━━━━━━━━━━━━━━\u001b[0m \u001b[32m240.9/240.9 KB\u001b[0m \u001b[31m6.1 MB/s\u001b[0m eta \u001b[36m0:00:00\u001b[0m\n",
            "\u001b[?25h  Preparing metadata (setup.py) ... \u001b[?25l\u001b[?25hdone\n",
            "Building wheels for collected packages: emoji\n",
            "  Building wheel for emoji (setup.py) ... \u001b[?25l\u001b[?25hdone\n",
            "  Created wheel for emoji: filename=emoji-2.2.0-py3-none-any.whl size=234926 sha256=0a35f2b09b8bbf66517a08f5ab69dd5f364551694d45e5d0681163cb010a74f3\n",
            "  Stored in directory: /root/.cache/pip/wheels/86/62/9e/a6b27a681abcde69970dbc0326ff51955f3beac72f15696984\n",
            "Successfully built emoji\n",
            "Installing collected packages: emoji\n",
            "Successfully installed emoji-2.2.0\n"
          ]
        }
      ]
    },
    {
      "cell_type": "code",
      "source": [
        "print(emoji.emojize(\"Move in silence speak only when its the time to say CHECKMATE:chess_pawn:\"))"
      ],
      "metadata": {
        "colab": {
          "base_uri": "https://localhost:8080/"
        },
        "id": "o2_EhW0G-baN",
        "outputId": "6f35f51d-1f08-449a-f3be-8ac2abf80ee1"
      },
      "execution_count": 8,
      "outputs": [
        {
          "output_type": "stream",
          "name": "stdout",
          "text": [
            "Move in silence speak only when its the time to say CHECKMATE♟️\n"
          ]
        }
      ]
    },
    {
      "cell_type": "code",
      "source": [
        "sentence = input(\"Enter sentence:\")\n",
        "print(emoji.emojize(\"sentence is: \" + sentence))"
      ],
      "metadata": {
        "colab": {
          "base_uri": "https://localhost:8080/"
        },
        "id": "sBI-O-1I-Em4",
        "outputId": "298a1353-6ed6-492a-d7fb-55b6fbb0f05a"
      },
      "execution_count": 10,
      "outputs": [
        {
          "output_type": "stream",
          "name": "stdout",
          "text": [
            "Enter sentence:i love teddy:teddy_bear:\n",
            "sentence is: i love teddy🧸\n"
          ]
        }
      ]
    }
  ]
}